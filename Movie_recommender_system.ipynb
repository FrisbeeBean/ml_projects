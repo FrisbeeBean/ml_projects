{
  "nbformat": 4,
  "nbformat_minor": 0,
  "metadata": {
    "colab": {
      "provenance": [],
      "gpuType": "T4"
    },
    "kernelspec": {
      "name": "python3",
      "display_name": "Python 3"
    },
    "language_info": {
      "name": "python"
    },
    "accelerator": "GPU"
  },
  "cells": [
    {
      "cell_type": "markdown",
      "source": [
        "# MOVIE RECOMMENDER SYSTEM\n",
        "\n",
        "I am Rishabh Jain and I am building a movie recommender system on the dataset tmdb_5000"
      ],
      "metadata": {
        "id": "z-FdToB2clbv"
      }
    },
    {
      "cell_type": "markdown",
      "source": [
        "### STEP 1: Importing the libraries"
      ],
      "metadata": {
        "id": "CrLBH8yrdDyZ"
      }
    },
    {
      "cell_type": "code",
      "source": [
        "import numpy as np\n",
        "import pandas as pd\n",
        "from sklearn.feature_extraction.text import CountVectorizer\n",
        "from sklearn.metrics.pairwise import cosine_similarity\n",
        "from nltk.stem.porter import PorterStemmer\n",
        "import ast"
      ],
      "metadata": {
        "id": "mntVRKvldTDl"
      },
      "execution_count": 6,
      "outputs": []
    },
    {
      "cell_type": "markdown",
      "source": [
        "### STEP 2: Merge the datasets"
      ],
      "metadata": {
        "id": "UOWGdLmohNN3"
      }
    },
    {
      "cell_type": "code",
      "source": [
        "movies = pd.read_csv('tmdb_5000_movies.csv')\n",
        "credits = pd.read_csv('tmdb_5000_credits.csv')\n",
        "movies = movies.merge(credits,on='title')\n"
      ],
      "metadata": {
        "id": "LuxdW50zhXPc"
      },
      "execution_count": 7,
      "outputs": []
    },
    {
      "cell_type": "markdown",
      "source": [
        "### STEP 3: Doing a whole bunch of data preprocessing\n",
        "\n",
        "- Extracting useful features\n",
        "- Making a tags column\n",
        "- Text preprocessing"
      ],
      "metadata": {
        "id": "iX8VTo_1wX2n"
      }
    },
    {
      "cell_type": "code",
      "source": [
        "# Extracting useful features only\n",
        "movies = movies[['movie_id','title','overview','genres','keywords','cast','crew']]\n",
        "\n",
        "# Making the functions for eassy implementation\n",
        "\n",
        "def change(string):\n",
        "    return [i['name'] for i in ast.literal_eval(string)]\n",
        "\n",
        "def get_director(string):\n",
        "    for i in ast.literal_eval(string):\n",
        "        if i['job'] == 'Director':\n",
        "            return [i['name']]\n",
        "    return []\n",
        "\n",
        "def get_top_cast(string):\n",
        "    return [i['name'] for i in ast.literal_eval(string)][:3]\n",
        "\n",
        "# Applying the changes and making the tags column\n",
        "\n",
        "movies['genres'] = movies['genres'].apply(change)\n",
        "movies['keywords'] = movies['keywords'].apply(change)\n",
        "movies['cast'] = movies['cast'].apply(get_top_cast)\n",
        "movies['crew'] = movies['crew'].apply(get_director)\n",
        "movies['overview'] = movies['overview'].fillna('').apply(lambda x: x.split())\n",
        "\n",
        "movies['tags'] = movies['overview'] + movies['genres'] + movies['keywords'] + movies['cast'] + movies['crew']\n",
        "\n",
        "# Creating a new dataset with the important tags column only in features\n",
        "new_movies = movies[['movie_id','title','tags']]\n",
        "new_movies['tags'] = new_movies['tags'].apply(lambda x: ' '.join(x))\n",
        "\n",
        "# Stemming the data\n",
        "from nltk.stem.porter import PorterStemmer\n",
        "ps = PorterStemmer()\n",
        "new_movies['tags'] = new_movies['tags'].apply(lambda x: ' '.join([ps.stem(i) for i in x.split()]))\n"
      ],
      "metadata": {
        "colab": {
          "base_uri": "https://localhost:8080/"
        },
        "id": "1woS5QNkwzkf",
        "outputId": "233b2160-af63-4b27-f8ea-169c5e3e330f"
      },
      "execution_count": 8,
      "outputs": [
        {
          "output_type": "stream",
          "name": "stderr",
          "text": [
            "<ipython-input-8-e88ea23b001f>:30: SettingWithCopyWarning: \n",
            "A value is trying to be set on a copy of a slice from a DataFrame.\n",
            "Try using .loc[row_indexer,col_indexer] = value instead\n",
            "\n",
            "See the caveats in the documentation: https://pandas.pydata.org/pandas-docs/stable/user_guide/indexing.html#returning-a-view-versus-a-copy\n",
            "  new_movies['tags'] = new_movies['tags'].apply(lambda x: ' '.join(x))\n",
            "<ipython-input-8-e88ea23b001f>:35: SettingWithCopyWarning: \n",
            "A value is trying to be set on a copy of a slice from a DataFrame.\n",
            "Try using .loc[row_indexer,col_indexer] = value instead\n",
            "\n",
            "See the caveats in the documentation: https://pandas.pydata.org/pandas-docs/stable/user_guide/indexing.html#returning-a-view-versus-a-copy\n",
            "  new_movies['tags'] = new_movies['tags'].apply(lambda x: ' '.join([ps.stem(i) for i in x.split()]))\n"
          ]
        }
      ]
    },
    {
      "cell_type": "markdown",
      "source": [
        "###STEP 4: Using Tfidfvectorizer"
      ],
      "metadata": {
        "id": "fRaD1nhYXGY9"
      }
    },
    {
      "cell_type": "code",
      "source": [
        "# Vectorizing the processed tags column conatining strings\n",
        "from sklearn.feature_extraction.text import TfidfVectorizer\n",
        "tf = TfidfVectorizer(max_features=5000,stop_words='english',lowercase=True)\n",
        "vector = tf.fit_transform(new_movies['tags']).toarray()\n"
      ],
      "metadata": {
        "id": "m4-_GJD8XgV7"
      },
      "execution_count": 9,
      "outputs": []
    },
    {
      "cell_type": "markdown",
      "source": [
        "###STEP 5: Computing the cosine similarity and Making the recommend function"
      ],
      "metadata": {
        "id": "34pJOHJWXr5F"
      }
    },
    {
      "cell_type": "code",
      "source": [
        "# Calculating the cosine similarity in the main recommend function and returning the top 10 results recommended excluding the movie itself\n",
        "from sklearn.metrics.pairwise import cosine_similarity\n",
        "def recommend(movie):\n",
        "    try:\n",
        "        movie_index = new_movies[new_movies['title'].str.lower() == movie.lower()].index[0]\n",
        "        distances = cosine_similarity(vector[movie_index].reshape(1,-1),vector).flatten()\n",
        "        best_index = distances.argsort()[::-1][1:11]\n",
        "        return new_movies['title'].iloc[best_index].tolist()\n",
        "    except IndexError:\n",
        "        return [\"Movie not found\"]\n"
      ],
      "metadata": {
        "id": "0PXWOvX1X35b"
      },
      "execution_count": 18,
      "outputs": []
    },
    {
      "cell_type": "markdown",
      "source": [
        "###STEP 6: Calling the recommend function"
      ],
      "metadata": {
        "id": "7j7cdUzWYMIP"
      }
    },
    {
      "cell_type": "code",
      "source": [
        "movie = input(\"Enter the movie name: \")\n",
        "recommend(movie)"
      ],
      "metadata": {
        "colab": {
          "base_uri": "https://localhost:8080/"
        },
        "id": "1eURNlzMYcZ4",
        "outputId": "0936aae1-ee60-41e6-e386-7d580f9364d9"
      },
      "execution_count": 19,
      "outputs": [
        {
          "name": "stdout",
          "output_type": "stream",
          "text": [
            "Enter the movie name: avatar\n"
          ]
        },
        {
          "output_type": "execute_result",
          "data": {
            "text/plain": [
              "['Aliens',\n",
              " 'Alien³',\n",
              " 'Silent Running',\n",
              " 'Alien',\n",
              " 'Spaceballs',\n",
              " 'Moonraker',\n",
              " 'Mission to Mars',\n",
              " 'Lifeforce',\n",
              " 'Treasure Planet',\n",
              " 'Star Trek Into Darkness']"
            ]
          },
          "metadata": {},
          "execution_count": 19
        }
      ]
    }
  ]
}