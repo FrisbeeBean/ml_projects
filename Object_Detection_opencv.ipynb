{
 "cells": [
  {
   "cell_type": "markdown",
   "id": "b1c05243",
   "metadata": {},
   "source": [
    "## OBJECT DETCTION USING OPENCV"
   ]
  },
  {
   "cell_type": "markdown",
   "id": "1780d906",
   "metadata": {},
   "source": [
    "### PART 1: Object Detection on the Test Images"
   ]
  },
  {
   "cell_type": "code",
   "execution_count": null,
   "id": "3df47a1a",
   "metadata": {},
   "outputs": [],
   "source": [
    "import cv2\n",
    "import numpy as np\n",
    "import os\n",
    "\n",
    "input_images = ['dog_and_cat.jpg', 'apple.jpg']\n",
    "os.makedirs('output', exist_ok=True)\n",
    "\n",
    "for i, img_path in enumerate(input_images):\n",
    "    img = cv2.imread(img_path)\n",
    "    orig = img.copy()\n",
    "    gray = cv2.cvtColor(img, cv2.COLOR_BGR2GRAY)\n",
    "\n",
    "    thresh = cv2.adaptiveThreshold(\n",
    "        gray, 255, cv2.ADAPTIVE_THRESH_MEAN_C, cv2.THRESH_BINARY_INV, 21, 10\n",
    "    )\n",
    "\n",
    "    kernel = cv2.getStructuringElement(cv2.MORPH_ELLIPSE, (12, 12))\n",
    "    thresh = cv2.morphologyEx(thresh, cv2.MORPH_CLOSE, kernel)\n",
    "\n",
    "    contours, _ = cv2.findContours(thresh, cv2.RETR_EXTERNAL, cv2.CHAIN_APPROX_SIMPLE)\n",
    "\n",
    "    img_area = img.shape[0] * img.shape[1]\n",
    "    min_area = 0.01 * img_area  \n",
    "\n",
    "    for cnt in contours:\n",
    "        area = cv2.contourArea(cnt)\n",
    "        if area > min_area:\n",
    "            x, y, w, h = cv2.boundingRect(cnt)\n",
    "            cv2.rectangle(orig, (x, y), (x + w, y + h), (0, 255, 0), 4)\n",
    "\n",
    "    cv2.imwrite(f'output/detected_image_{i+1}.jpg', orig)\n",
    "    cv2.waitKey(0)\n",
    "    cv2.destroyAllWindows()\n"
   ]
  },
  {
   "cell_type": "markdown",
   "id": "d9281fc5",
   "metadata": {},
   "source": [
    "### PART 2: Background Removal on the Test Images"
   ]
  },
  {
   "cell_type": "code",
   "execution_count": 9,
   "id": "f80c10d7",
   "metadata": {},
   "outputs": [],
   "source": [
    "for i, img_path in enumerate(input_images):\n",
    "    img = cv2.imread(img_path)\n",
    "\n",
    "    lower = np.array([228, 228, 228], dtype=np.uint8)\n",
    "    upper = np.array([255, 255, 255], dtype=np.uint8)\n",
    "\n",
    "    mask = cv2.inRange(img, lower, upper)\n",
    "    not_mask = cv2.bitwise_not(mask)\n",
    "\n",
    "    kernel = cv2.getStructuringElement(cv2.MORPH_ELLIPSE, (5, 5))\n",
    "    not_mask = cv2.morphologyEx(not_mask, cv2.MORPH_OPEN, kernel)\n",
    "    not_mask = cv2.morphologyEx(not_mask, cv2.MORPH_CLOSE, kernel)\n",
    "\n",
    "    result = cv2.bitwise_and(img, img, mask=not_mask)\n",
    "\n",
    "    white_background = np.full_like(img, 255)\n",
    "    inv_mask = cv2.bitwise_not(not_mask)\n",
    "    clean_background = cv2.bitwise_and(white_background, white_background, mask=inv_mask)\n",
    "\n",
    "    final = cv2.add(result, clean_background)\n",
    "    cv2.imwrite(f'output/segmented_object_{i+1}.png', final)\n"
   ]
  },
  {
   "cell_type": "markdown",
   "id": "a34233d5",
   "metadata": {},
   "source": [
    "### PART 3: Background Removal from Webcam"
   ]
  },
  {
   "cell_type": "code",
   "execution_count": null,
   "id": "5e0dfbe9",
   "metadata": {},
   "outputs": [],
   "source": [
    "cap = cv2.VideoCapture(0)\n",
    "kernel = cv2.getStructuringElement(cv2.MORPH_ELLIPSE, (5, 5))\n",
    "\n",
    "frame_width = int(cap.get(cv2.CAP_PROP_FRAME_WIDTH))\n",
    "frame_height = int(cap.get(cv2.CAP_PROP_FRAME_HEIGHT))\n",
    "fourcc = cv2.VideoWriter_fourcc(*'mp4v')  \n",
    "out = cv2.VideoWriter('output/realtime_background_removed.mp4', fourcc, 20.0, (frame_width, frame_height))\n",
    "\n",
    "lower_black = np.array([0, 0, 0])\n",
    "upper_black = np.array([180, 255, 60])\n",
    "lower_white = np.array([0, 0, 145])\n",
    "upper_white = np.array([180, 30, 255])\n",
    "while True:\n",
    "    _, frame = cap.read()\n",
    "\n",
    "    hsv = cv2.cvtColor(frame, cv2.COLOR_BGR2HSV)\n",
    "    mask_black = cv2.inRange(hsv, lower_black, upper_black)\n",
    "    mask_white = cv2.inRange(hsv, lower_white, upper_white)\n",
    "    mask_bg = cv2.bitwise_or(mask_black, mask_white)\n",
    "    mask_fg = cv2.bitwise_not(mask_bg) \n",
    "\n",
    "    mask_clean = cv2.morphologyEx(mask_fg, cv2.MORPH_OPEN, kernel, iterations=3)\n",
    "    mask_clean = cv2.morphologyEx(mask_clean, cv2.MORPH_CLOSE, kernel, iterations=3)\n",
    "    mask_img = cv2.merge([mask_clean] * 3)\n",
    "\n",
    "    foreground = cv2.bitwise_and(frame, mask_img)\n",
    "    white_bg = np.full(frame.shape, 255, dtype=np.uint8)\n",
    "    inv_mask = cv2.bitwise_not(mask_clean)\n",
    "    inv_mask_img = cv2.merge([inv_mask]*3)\n",
    "    background = cv2.bitwise_and(white_bg, inv_mask_img)\n",
    "\n",
    "    output = cv2.add(foreground, background)\n",
    "    out.write(output)  \n",
    "    if cv2.waitKey(1) & 0xFF == ord('q'):\n",
    "        break\n",
    "\n",
    "cap.release()\n",
    "out.release()\n",
    "cv2.destroyAllWindows()\n"
   ]
  }
 ],
 "metadata": {
  "kernelspec": {
   "display_name": "Python 3",
   "language": "python",
   "name": "python3"
  },
  "language_info": {
   "codemirror_mode": {
    "name": "ipython",
    "version": 3
   },
   "file_extension": ".py",
   "mimetype": "text/x-python",
   "name": "python",
   "nbconvert_exporter": "python",
   "pygments_lexer": "ipython3",
   "version": "3.13.0"
  }
 },
 "nbformat": 4,
 "nbformat_minor": 5
}
